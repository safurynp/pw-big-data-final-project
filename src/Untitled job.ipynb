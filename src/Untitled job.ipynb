{
	"cells": [
		{
			"cell_type": "markdown",
			"id": "8cb16da0",
			"metadata": {},
			"source": [
				"### This notebook shows examples of using Glue on Spark for users familiar with pandas\n",
				"To follow this example notebook, execute the cells in order.\n",
				"The keyboard shortcut to execute the current cell and jump to the following is: Shift+Enter.\n",
				"\n",
				"To delete cells no longer needed (including this one), you can use the context menu or use the Escape key (to exit any cell you might be in) and then press the d key twice. You can select multiple cells using Shift + Up/Down, to delete many quickly.\n",
				"\n",
				"This example assumes the configured role has permission to read/write on the default catalog database and the s3 glue temporary folder, otherwise update the code or the permissions accordingly."
			]
		},
		{
			"cell_type": "markdown",
			"id": "dc7cacd1",
			"metadata": {},
			"source": [
				"####  Running the following cell will set up and start your interactive session."
			]
		},
		{
			"cell_type": "code",
			"execution_count": 5,
			"id": "a3fea417",
			"metadata": {
				"tags": [],
				"trusted": true
			},
			"outputs": [
				{
					"ename": "RuntimeError",
					"evalue": "OpenSSL 3.0's legacy provider failed to load. This is a fatal error by default, but cryptography supports running without legacy algorithms by setting the environment variable CRYPTOGRAPHY_OPENSSL_NO_LEGACY. If you did not expect this error, you have likely made a mistake with your OpenSSL configuration.",
					"output_type": "error",
					"traceback": [
						"\u001b[0;31m---------------------------------------------------------------------------\u001b[0m",
						"\u001b[0;31mRuntimeError\u001b[0m                              Traceback (most recent call last)",
						"Cell \u001b[0;32mIn[5], line 6\u001b[0m\n\u001b[1;32m      1\u001b[0m \u001b[38;5;66;03m# %idle_timeout 120\u001b[39;00m\n\u001b[1;32m      2\u001b[0m \u001b[38;5;66;03m# %glue_version 4.0\u001b[39;00m\n\u001b[1;32m      3\u001b[0m \u001b[38;5;66;03m# %worker_type G.1X\u001b[39;00m\n\u001b[1;32m      4\u001b[0m \u001b[38;5;66;03m# %number_of_workers 2\u001b[39;00m\n\u001b[0;32m----> 6\u001b[0m \u001b[38;5;28;01mimport\u001b[39;00m \u001b[38;5;21;01mboto3\u001b[39;00m\n\u001b[1;32m      7\u001b[0m \u001b[38;5;28;01mimport\u001b[39;00m \u001b[38;5;21;01msys\u001b[39;00m\n\u001b[1;32m      8\u001b[0m \u001b[38;5;28;01mfrom\u001b[39;00m \u001b[38;5;21;01mawsglue\u001b[39;00m\u001b[38;5;21;01m.\u001b[39;00m\u001b[38;5;21;01mdynamicframe\u001b[39;00m \u001b[38;5;28;01mimport\u001b[39;00m DynamicFrame\n",
						"File \u001b[0;32m~/opt/miniconda3/envs/big-data-env/lib/python3.9/site-packages/boto3/__init__.py:17\u001b[0m\n\u001b[1;32m     14\u001b[0m \u001b[38;5;28;01mimport\u001b[39;00m \u001b[38;5;21;01mlogging\u001b[39;00m\n\u001b[1;32m     16\u001b[0m \u001b[38;5;28;01mfrom\u001b[39;00m \u001b[38;5;21;01mboto3\u001b[39;00m\u001b[38;5;21;01m.\u001b[39;00m\u001b[38;5;21;01mcompat\u001b[39;00m \u001b[38;5;28;01mimport\u001b[39;00m _warn_deprecated_python\n\u001b[0;32m---> 17\u001b[0m \u001b[38;5;28;01mfrom\u001b[39;00m \u001b[38;5;21;01mboto3\u001b[39;00m\u001b[38;5;21;01m.\u001b[39;00m\u001b[38;5;21;01msession\u001b[39;00m \u001b[38;5;28;01mimport\u001b[39;00m Session\n\u001b[1;32m     19\u001b[0m __author__ \u001b[38;5;241m=\u001b[39m \u001b[38;5;124m'\u001b[39m\u001b[38;5;124mAmazon Web Services\u001b[39m\u001b[38;5;124m'\u001b[39m\n\u001b[1;32m     20\u001b[0m __version__ \u001b[38;5;241m=\u001b[39m \u001b[38;5;124m'\u001b[39m\u001b[38;5;124m1.29.1\u001b[39m\u001b[38;5;124m'\u001b[39m\n",
						"File \u001b[0;32m~/opt/miniconda3/envs/big-data-env/lib/python3.9/site-packages/boto3/session.py:17\u001b[0m\n\u001b[1;32m     14\u001b[0m \u001b[38;5;28;01mimport\u001b[39;00m \u001b[38;5;21;01mcopy\u001b[39;00m\n\u001b[1;32m     15\u001b[0m \u001b[38;5;28;01mimport\u001b[39;00m \u001b[38;5;21;01mos\u001b[39;00m\n\u001b[0;32m---> 17\u001b[0m \u001b[38;5;28;01mimport\u001b[39;00m \u001b[38;5;21;01mbotocore\u001b[39;00m\u001b[38;5;21;01m.\u001b[39;00m\u001b[38;5;21;01msession\u001b[39;00m\n\u001b[1;32m     18\u001b[0m \u001b[38;5;28;01mfrom\u001b[39;00m \u001b[38;5;21;01mbotocore\u001b[39;00m\u001b[38;5;21;01m.\u001b[39;00m\u001b[38;5;21;01mclient\u001b[39;00m \u001b[38;5;28;01mimport\u001b[39;00m Config\n\u001b[1;32m     19\u001b[0m \u001b[38;5;28;01mfrom\u001b[39;00m \u001b[38;5;21;01mbotocore\u001b[39;00m\u001b[38;5;21;01m.\u001b[39;00m\u001b[38;5;21;01mexceptions\u001b[39;00m \u001b[38;5;28;01mimport\u001b[39;00m DataNotFoundError, UnknownServiceError\n",
						"File \u001b[0;32m~/opt/miniconda3/envs/big-data-env/lib/python3.9/site-packages/botocore/session.py:26\u001b[0m\n\u001b[1;32m     23\u001b[0m \u001b[38;5;28;01mimport\u001b[39;00m \u001b[38;5;21;01msocket\u001b[39;00m\n\u001b[1;32m     24\u001b[0m \u001b[38;5;28;01mimport\u001b[39;00m \u001b[38;5;21;01mwarnings\u001b[39;00m\n\u001b[0;32m---> 26\u001b[0m \u001b[38;5;28;01mimport\u001b[39;00m \u001b[38;5;21;01mbotocore\u001b[39;00m\u001b[38;5;21;01m.\u001b[39;00m\u001b[38;5;21;01mclient\u001b[39;00m\n\u001b[1;32m     27\u001b[0m \u001b[38;5;28;01mimport\u001b[39;00m \u001b[38;5;21;01mbotocore\u001b[39;00m\u001b[38;5;21;01m.\u001b[39;00m\u001b[38;5;21;01mconfigloader\u001b[39;00m\n\u001b[1;32m     28\u001b[0m \u001b[38;5;28;01mimport\u001b[39;00m \u001b[38;5;21;01mbotocore\u001b[39;00m\u001b[38;5;21;01m.\u001b[39;00m\u001b[38;5;21;01mcredentials\u001b[39;00m\n",
						"File \u001b[0;32m~/opt/miniconda3/envs/big-data-env/lib/python3.9/site-packages/botocore/client.py:15\u001b[0m\n\u001b[1;32m      1\u001b[0m \u001b[38;5;66;03m# Copyright 2014 Amazon.com, Inc. or its affiliates. All Rights Reserved.\u001b[39;00m\n\u001b[1;32m      2\u001b[0m \u001b[38;5;66;03m#\u001b[39;00m\n\u001b[1;32m      3\u001b[0m \u001b[38;5;66;03m# Licensed under the Apache License, Version 2.0 (the \"License\"). You\u001b[39;00m\n\u001b[0;32m   (...)\u001b[0m\n\u001b[1;32m     11\u001b[0m \u001b[38;5;66;03m# ANY KIND, either express or implied. See the License for the specific\u001b[39;00m\n\u001b[1;32m     12\u001b[0m \u001b[38;5;66;03m# language governing permissions and limitations under the License.\u001b[39;00m\n\u001b[1;32m     13\u001b[0m \u001b[38;5;28;01mimport\u001b[39;00m \u001b[38;5;21;01mlogging\u001b[39;00m\n\u001b[0;32m---> 15\u001b[0m \u001b[38;5;28;01mfrom\u001b[39;00m \u001b[38;5;21;01mbotocore\u001b[39;00m \u001b[38;5;28;01mimport\u001b[39;00m waiter, xform_name\n\u001b[1;32m     16\u001b[0m \u001b[38;5;28;01mfrom\u001b[39;00m \u001b[38;5;21;01mbotocore\u001b[39;00m\u001b[38;5;21;01m.\u001b[39;00m\u001b[38;5;21;01margs\u001b[39;00m \u001b[38;5;28;01mimport\u001b[39;00m ClientArgsCreator\n\u001b[1;32m     17\u001b[0m \u001b[38;5;28;01mfrom\u001b[39;00m \u001b[38;5;21;01mbotocore\u001b[39;00m\u001b[38;5;21;01m.\u001b[39;00m\u001b[38;5;21;01mauth\u001b[39;00m \u001b[38;5;28;01mimport\u001b[39;00m AUTH_TYPE_MAPS\n",
						"File \u001b[0;32m~/opt/miniconda3/envs/big-data-env/lib/python3.9/site-packages/botocore/waiter.py:18\u001b[0m\n\u001b[1;32m     14\u001b[0m \u001b[38;5;28;01mimport\u001b[39;00m \u001b[38;5;21;01mtime\u001b[39;00m\n\u001b[1;32m     16\u001b[0m \u001b[38;5;28;01mimport\u001b[39;00m \u001b[38;5;21;01mjmespath\u001b[39;00m\n\u001b[0;32m---> 18\u001b[0m \u001b[38;5;28;01mfrom\u001b[39;00m \u001b[38;5;21;01mbotocore\u001b[39;00m\u001b[38;5;21;01m.\u001b[39;00m\u001b[38;5;21;01mdocs\u001b[39;00m\u001b[38;5;21;01m.\u001b[39;00m\u001b[38;5;21;01mdocstring\u001b[39;00m \u001b[38;5;28;01mimport\u001b[39;00m WaiterDocstring\n\u001b[1;32m     19\u001b[0m \u001b[38;5;28;01mfrom\u001b[39;00m \u001b[38;5;21;01mbotocore\u001b[39;00m\u001b[38;5;21;01m.\u001b[39;00m\u001b[38;5;21;01mutils\u001b[39;00m \u001b[38;5;28;01mimport\u001b[39;00m get_service_module_name\n\u001b[1;32m     21\u001b[0m \u001b[38;5;28;01mfrom\u001b[39;00m \u001b[38;5;21;01m.\u001b[39;00m \u001b[38;5;28;01mimport\u001b[39;00m xform_name\n",
						"File \u001b[0;32m~/opt/miniconda3/envs/big-data-env/lib/python3.9/site-packages/botocore/docs/__init__.py:15\u001b[0m\n\u001b[1;32m      1\u001b[0m \u001b[38;5;66;03m# Copyright 2015 Amazon.com, Inc. or its affiliates. All Rights Reserved.\u001b[39;00m\n\u001b[1;32m      2\u001b[0m \u001b[38;5;66;03m#\u001b[39;00m\n\u001b[1;32m      3\u001b[0m \u001b[38;5;66;03m# Licensed under the Apache License, Version 2.0 (the \"License\"). You\u001b[39;00m\n\u001b[0;32m   (...)\u001b[0m\n\u001b[1;32m     11\u001b[0m \u001b[38;5;66;03m# ANY KIND, either express or implied. See the License for the specific\u001b[39;00m\n\u001b[1;32m     12\u001b[0m \u001b[38;5;66;03m# language governing permissions and limitations under the License.\u001b[39;00m\n\u001b[1;32m     13\u001b[0m \u001b[38;5;28;01mimport\u001b[39;00m \u001b[38;5;21;01mos\u001b[39;00m\n\u001b[0;32m---> 15\u001b[0m \u001b[38;5;28;01mfrom\u001b[39;00m \u001b[38;5;21;01mbotocore\u001b[39;00m\u001b[38;5;21;01m.\u001b[39;00m\u001b[38;5;21;01mdocs\u001b[39;00m\u001b[38;5;21;01m.\u001b[39;00m\u001b[38;5;21;01mservice\u001b[39;00m \u001b[38;5;28;01mimport\u001b[39;00m ServiceDocumenter\n\u001b[1;32m     17\u001b[0m DEPRECATED_SERVICE_NAMES \u001b[38;5;241m=\u001b[39m {\u001b[38;5;124m'\u001b[39m\u001b[38;5;124msms-voice\u001b[39m\u001b[38;5;124m'\u001b[39m}\n\u001b[1;32m     20\u001b[0m \u001b[38;5;28;01mdef\u001b[39;00m \u001b[38;5;21mgenerate_docs\u001b[39m(root_dir, session):\n",
						"File \u001b[0;32m~/opt/miniconda3/envs/big-data-env/lib/python3.9/site-packages/botocore/docs/service.py:14\u001b[0m\n\u001b[1;32m      1\u001b[0m \u001b[38;5;66;03m# Copyright 2015 Amazon.com, Inc. or its affiliates. All Rights Reserved.\u001b[39;00m\n\u001b[1;32m      2\u001b[0m \u001b[38;5;66;03m#\u001b[39;00m\n\u001b[1;32m      3\u001b[0m \u001b[38;5;66;03m# Licensed under the Apache License, Version 2.0 (the \"License\"). You\u001b[39;00m\n\u001b[0;32m   (...)\u001b[0m\n\u001b[1;32m     11\u001b[0m \u001b[38;5;66;03m# ANY KIND, either express or implied. See the License for the specific\u001b[39;00m\n\u001b[1;32m     12\u001b[0m \u001b[38;5;66;03m# language governing permissions and limitations under the License.\u001b[39;00m\n\u001b[1;32m     13\u001b[0m \u001b[38;5;28;01mfrom\u001b[39;00m \u001b[38;5;21;01mbotocore\u001b[39;00m\u001b[38;5;21;01m.\u001b[39;00m\u001b[38;5;21;01mdocs\u001b[39;00m\u001b[38;5;21;01m.\u001b[39;00m\u001b[38;5;21;01mbcdoc\u001b[39;00m\u001b[38;5;21;01m.\u001b[39;00m\u001b[38;5;21;01mrestdoc\u001b[39;00m \u001b[38;5;28;01mimport\u001b[39;00m DocumentStructure\n\u001b[0;32m---> 14\u001b[0m \u001b[38;5;28;01mfrom\u001b[39;00m \u001b[38;5;21;01mbotocore\u001b[39;00m\u001b[38;5;21;01m.\u001b[39;00m\u001b[38;5;21;01mdocs\u001b[39;00m\u001b[38;5;21;01m.\u001b[39;00m\u001b[38;5;21;01mclient\u001b[39;00m \u001b[38;5;28;01mimport\u001b[39;00m (\n\u001b[1;32m     15\u001b[0m     ClientContextParamsDocumenter,\n\u001b[1;32m     16\u001b[0m     ClientDocumenter,\n\u001b[1;32m     17\u001b[0m     ClientExceptionsDocumenter,\n\u001b[1;32m     18\u001b[0m )\n\u001b[1;32m     19\u001b[0m \u001b[38;5;28;01mfrom\u001b[39;00m \u001b[38;5;21;01mbotocore\u001b[39;00m\u001b[38;5;21;01m.\u001b[39;00m\u001b[38;5;21;01mdocs\u001b[39;00m\u001b[38;5;21;01m.\u001b[39;00m\u001b[38;5;21;01mpaginator\u001b[39;00m \u001b[38;5;28;01mimport\u001b[39;00m PaginatorDocumenter\n\u001b[1;32m     20\u001b[0m \u001b[38;5;28;01mfrom\u001b[39;00m \u001b[38;5;21;01mbotocore\u001b[39;00m\u001b[38;5;21;01m.\u001b[39;00m\u001b[38;5;21;01mdocs\u001b[39;00m\u001b[38;5;21;01m.\u001b[39;00m\u001b[38;5;21;01mwaiter\u001b[39;00m \u001b[38;5;28;01mimport\u001b[39;00m WaiterDocumenter\n",
						"File \u001b[0;32m~/opt/miniconda3/envs/big-data-env/lib/python3.9/site-packages/botocore/docs/client.py:18\u001b[0m\n\u001b[1;32m     16\u001b[0m \u001b[38;5;28;01mfrom\u001b[39;00m \u001b[38;5;21;01mbotocore\u001b[39;00m\u001b[38;5;21;01m.\u001b[39;00m\u001b[38;5;21;01mcompat\u001b[39;00m \u001b[38;5;28;01mimport\u001b[39;00m OrderedDict\n\u001b[1;32m     17\u001b[0m \u001b[38;5;28;01mfrom\u001b[39;00m \u001b[38;5;21;01mbotocore\u001b[39;00m\u001b[38;5;21;01m.\u001b[39;00m\u001b[38;5;21;01mdocs\u001b[39;00m\u001b[38;5;21;01m.\u001b[39;00m\u001b[38;5;21;01mbcdoc\u001b[39;00m\u001b[38;5;21;01m.\u001b[39;00m\u001b[38;5;21;01mrestdoc\u001b[39;00m \u001b[38;5;28;01mimport\u001b[39;00m DocumentStructure\n\u001b[0;32m---> 18\u001b[0m \u001b[38;5;28;01mfrom\u001b[39;00m \u001b[38;5;21;01mbotocore\u001b[39;00m\u001b[38;5;21;01m.\u001b[39;00m\u001b[38;5;21;01mdocs\u001b[39;00m\u001b[38;5;21;01m.\u001b[39;00m\u001b[38;5;21;01mexample\u001b[39;00m \u001b[38;5;28;01mimport\u001b[39;00m ResponseExampleDocumenter\n\u001b[1;32m     19\u001b[0m \u001b[38;5;28;01mfrom\u001b[39;00m \u001b[38;5;21;01mbotocore\u001b[39;00m\u001b[38;5;21;01m.\u001b[39;00m\u001b[38;5;21;01mdocs\u001b[39;00m\u001b[38;5;21;01m.\u001b[39;00m\u001b[38;5;21;01mmethod\u001b[39;00m \u001b[38;5;28;01mimport\u001b[39;00m (\n\u001b[1;32m     20\u001b[0m     document_custom_method,\n\u001b[1;32m     21\u001b[0m     document_model_driven_method,\n\u001b[1;32m     22\u001b[0m     get_instance_public_methods,\n\u001b[1;32m     23\u001b[0m )\n\u001b[1;32m     24\u001b[0m \u001b[38;5;28;01mfrom\u001b[39;00m \u001b[38;5;21;01mbotocore\u001b[39;00m\u001b[38;5;21;01m.\u001b[39;00m\u001b[38;5;21;01mdocs\u001b[39;00m\u001b[38;5;21;01m.\u001b[39;00m\u001b[38;5;21;01mparams\u001b[39;00m \u001b[38;5;28;01mimport\u001b[39;00m ResponseParamsDocumenter\n",
						"File \u001b[0;32m~/opt/miniconda3/envs/big-data-env/lib/python3.9/site-packages/botocore/docs/example.py:13\u001b[0m\n\u001b[1;32m      1\u001b[0m \u001b[38;5;66;03m# Copyright 2015 Amazon.com, Inc. or its affiliates. All Rights Reserved.\u001b[39;00m\n\u001b[1;32m      2\u001b[0m \u001b[38;5;66;03m#\u001b[39;00m\n\u001b[1;32m      3\u001b[0m \u001b[38;5;66;03m# Licensed under the Apache License, Version 2.0 (the \"License\"). You\u001b[39;00m\n\u001b[0;32m   (...)\u001b[0m\n\u001b[1;32m     11\u001b[0m \u001b[38;5;66;03m# ANY KIND, either express or implied. See the License for the specific\u001b[39;00m\n\u001b[1;32m     12\u001b[0m \u001b[38;5;66;03m# language governing permissions and limitations under the License.\u001b[39;00m\n\u001b[0;32m---> 13\u001b[0m \u001b[38;5;28;01mfrom\u001b[39;00m \u001b[38;5;21;01mbotocore\u001b[39;00m\u001b[38;5;21;01m.\u001b[39;00m\u001b[38;5;21;01mdocs\u001b[39;00m\u001b[38;5;21;01m.\u001b[39;00m\u001b[38;5;21;01mshape\u001b[39;00m \u001b[38;5;28;01mimport\u001b[39;00m ShapeDocumenter\n\u001b[1;32m     14\u001b[0m \u001b[38;5;28;01mfrom\u001b[39;00m \u001b[38;5;21;01mbotocore\u001b[39;00m\u001b[38;5;21;01m.\u001b[39;00m\u001b[38;5;21;01mdocs\u001b[39;00m\u001b[38;5;21;01m.\u001b[39;00m\u001b[38;5;21;01mutils\u001b[39;00m \u001b[38;5;28;01mimport\u001b[39;00m py_default\n\u001b[1;32m     17\u001b[0m \u001b[38;5;28;01mclass\u001b[39;00m \u001b[38;5;21;01mBaseExampleDocumenter\u001b[39;00m(ShapeDocumenter):\n",
						"File \u001b[0;32m~/opt/miniconda3/envs/big-data-env/lib/python3.9/site-packages/botocore/docs/shape.py:19\u001b[0m\n\u001b[1;32m      1\u001b[0m \u001b[38;5;66;03m# Copyright 2015 Amazon.com, Inc. or its affiliates. All Rights Reserved.\u001b[39;00m\n\u001b[1;32m      2\u001b[0m \u001b[38;5;66;03m#\u001b[39;00m\n\u001b[1;32m      3\u001b[0m \u001b[38;5;66;03m# Licensed under the Apache License, Version 2.0 (the \"License\"). You\u001b[39;00m\n\u001b[0;32m   (...)\u001b[0m\n\u001b[1;32m     17\u001b[0m \u001b[38;5;66;03m# inherited from a Documenter class with the appropriate methods\u001b[39;00m\n\u001b[1;32m     18\u001b[0m \u001b[38;5;66;03m# and attributes.\u001b[39;00m\n\u001b[0;32m---> 19\u001b[0m \u001b[38;5;28;01mfrom\u001b[39;00m \u001b[38;5;21;01mbotocore\u001b[39;00m\u001b[38;5;21;01m.\u001b[39;00m\u001b[38;5;21;01mutils\u001b[39;00m \u001b[38;5;28;01mimport\u001b[39;00m is_json_value_header\n\u001b[1;32m     22\u001b[0m \u001b[38;5;28;01mclass\u001b[39;00m \u001b[38;5;21;01mShapeDocumenter\u001b[39;00m:\n\u001b[1;32m     23\u001b[0m     EVENT_NAME \u001b[38;5;241m=\u001b[39m \u001b[38;5;124m'\u001b[39m\u001b[38;5;124m'\u001b[39m\n",
						"File \u001b[0;32m~/opt/miniconda3/envs/big-data-env/lib/python3.9/site-packages/botocore/utils.py:38\u001b[0m\n\u001b[1;32m     36\u001b[0m \u001b[38;5;28;01mimport\u001b[39;00m \u001b[38;5;21;01mbotocore\u001b[39;00m\n\u001b[1;32m     37\u001b[0m \u001b[38;5;28;01mimport\u001b[39;00m \u001b[38;5;21;01mbotocore\u001b[39;00m\u001b[38;5;21;01m.\u001b[39;00m\u001b[38;5;21;01mawsrequest\u001b[39;00m\n\u001b[0;32m---> 38\u001b[0m \u001b[38;5;28;01mimport\u001b[39;00m \u001b[38;5;21;01mbotocore\u001b[39;00m\u001b[38;5;21;01m.\u001b[39;00m\u001b[38;5;21;01mhttpsession\u001b[39;00m\n\u001b[1;32m     40\u001b[0m \u001b[38;5;66;03m# IP Regexes retained for backwards compatibility\u001b[39;00m\n\u001b[1;32m     41\u001b[0m \u001b[38;5;28;01mfrom\u001b[39;00m \u001b[38;5;21;01mbotocore\u001b[39;00m\u001b[38;5;21;01m.\u001b[39;00m\u001b[38;5;21;01mcompat\u001b[39;00m \u001b[38;5;28;01mimport\u001b[39;00m HEX_PAT  \u001b[38;5;66;03m# noqa: F401\u001b[39;00m\n",
						"File \u001b[0;32m~/opt/miniconda3/envs/big-data-env/lib/python3.9/site-packages/botocore/httpsession.py:45\u001b[0m\n\u001b[1;32m     43\u001b[0m         warnings\u001b[38;5;241m.\u001b[39msimplefilter(\u001b[38;5;124m\"\u001b[39m\u001b[38;5;124mignore\u001b[39m\u001b[38;5;124m\"\u001b[39m, category\u001b[38;5;241m=\u001b[39m\u001b[38;5;167;01mDeprecationWarning\u001b[39;00m)\n\u001b[1;32m     44\u001b[0m         \u001b[38;5;66;03m# Always import the original SSLContext, even if it has been patched\u001b[39;00m\n\u001b[0;32m---> 45\u001b[0m         \u001b[38;5;28;01mfrom\u001b[39;00m \u001b[38;5;21;01murllib3\u001b[39;00m\u001b[38;5;21;01m.\u001b[39;00m\u001b[38;5;21;01mcontrib\u001b[39;00m\u001b[38;5;21;01m.\u001b[39;00m\u001b[38;5;21;01mpyopenssl\u001b[39;00m \u001b[38;5;28;01mimport\u001b[39;00m (\n\u001b[1;32m     46\u001b[0m             orig_util_SSLContext \u001b[38;5;28;01mas\u001b[39;00m SSLContext,\n\u001b[1;32m     47\u001b[0m         )\n\u001b[1;32m     48\u001b[0m \u001b[38;5;28;01mexcept\u001b[39;00m \u001b[38;5;167;01mImportError\u001b[39;00m:\n\u001b[1;32m     49\u001b[0m     \u001b[38;5;28;01mfrom\u001b[39;00m \u001b[38;5;21;01murllib3\u001b[39;00m\u001b[38;5;21;01m.\u001b[39;00m\u001b[38;5;21;01mutil\u001b[39;00m\u001b[38;5;21;01m.\u001b[39;00m\u001b[38;5;21;01mssl_\u001b[39;00m \u001b[38;5;28;01mimport\u001b[39;00m SSLContext\n",
						"File \u001b[0;32m~/opt/miniconda3/envs/big-data-env/lib/python3.9/site-packages/urllib3/contrib/pyopenssl.py:50\u001b[0m\n\u001b[1;32m      1\u001b[0m \u001b[38;5;124;03m\"\"\"\u001b[39;00m\n\u001b[1;32m      2\u001b[0m \u001b[38;5;124;03mTLS with SNI_-support for Python 2. Follow these instructions if you would\u001b[39;00m\n\u001b[1;32m      3\u001b[0m \u001b[38;5;124;03mlike to verify TLS certificates in Python 2. Note, the default libraries do\u001b[39;00m\n\u001b[0;32m   (...)\u001b[0m\n\u001b[1;32m     46\u001b[0m \u001b[38;5;124;03m.. _idna: https://github.com/kjd/idna\u001b[39;00m\n\u001b[1;32m     47\u001b[0m \u001b[38;5;124;03m\"\"\"\u001b[39;00m\n\u001b[1;32m     48\u001b[0m \u001b[38;5;28;01mfrom\u001b[39;00m \u001b[38;5;21;01m__future__\u001b[39;00m \u001b[38;5;28;01mimport\u001b[39;00m absolute_import\n\u001b[0;32m---> 50\u001b[0m \u001b[38;5;28;01mimport\u001b[39;00m \u001b[38;5;21;01mOpenSSL\u001b[39;00m\u001b[38;5;21;01m.\u001b[39;00m\u001b[38;5;21;01mcrypto\u001b[39;00m\n\u001b[1;32m     51\u001b[0m \u001b[38;5;28;01mimport\u001b[39;00m \u001b[38;5;21;01mOpenSSL\u001b[39;00m\u001b[38;5;21;01m.\u001b[39;00m\u001b[38;5;21;01mSSL\u001b[39;00m\n\u001b[1;32m     52\u001b[0m \u001b[38;5;28;01mfrom\u001b[39;00m \u001b[38;5;21;01mcryptography\u001b[39;00m \u001b[38;5;28;01mimport\u001b[39;00m x509\n",
						"File \u001b[0;32m~/opt/miniconda3/envs/big-data-env/lib/python3.9/site-packages/OpenSSL/__init__.py:8\u001b[0m\n\u001b[1;32m      1\u001b[0m \u001b[38;5;66;03m# Copyright (C) AB Strakt\u001b[39;00m\n\u001b[1;32m      2\u001b[0m \u001b[38;5;66;03m# See LICENSE for details.\u001b[39;00m\n\u001b[1;32m      4\u001b[0m \u001b[38;5;124;03m\"\"\"\u001b[39;00m\n\u001b[1;32m      5\u001b[0m \u001b[38;5;124;03mpyOpenSSL - A simple wrapper around the OpenSSL library\u001b[39;00m\n\u001b[1;32m      6\u001b[0m \u001b[38;5;124;03m\"\"\"\u001b[39;00m\n\u001b[0;32m----> 8\u001b[0m \u001b[38;5;28;01mfrom\u001b[39;00m \u001b[38;5;21;01mOpenSSL\u001b[39;00m \u001b[38;5;28;01mimport\u001b[39;00m SSL, crypto\n\u001b[1;32m      9\u001b[0m \u001b[38;5;28;01mfrom\u001b[39;00m \u001b[38;5;21;01mOpenSSL\u001b[39;00m\u001b[38;5;21;01m.\u001b[39;00m\u001b[38;5;21;01mversion\u001b[39;00m \u001b[38;5;28;01mimport\u001b[39;00m (\n\u001b[1;32m     10\u001b[0m     __author__,\n\u001b[1;32m     11\u001b[0m     __copyright__,\n\u001b[0;32m   (...)\u001b[0m\n\u001b[1;32m     17\u001b[0m     __version__,\n\u001b[1;32m     18\u001b[0m )\n\u001b[1;32m     21\u001b[0m __all__ \u001b[38;5;241m=\u001b[39m [\n\u001b[1;32m     22\u001b[0m     \u001b[38;5;124m\"\u001b[39m\u001b[38;5;124mSSL\u001b[39m\u001b[38;5;124m\"\u001b[39m,\n\u001b[1;32m     23\u001b[0m     \u001b[38;5;124m\"\u001b[39m\u001b[38;5;124mcrypto\u001b[39m\u001b[38;5;124m\"\u001b[39m,\n\u001b[0;32m   (...)\u001b[0m\n\u001b[1;32m     31\u001b[0m     \u001b[38;5;124m\"\u001b[39m\u001b[38;5;124m__version__\u001b[39m\u001b[38;5;124m\"\u001b[39m,\n\u001b[1;32m     32\u001b[0m ]\n",
						"File \u001b[0;32m~/opt/miniconda3/envs/big-data-env/lib/python3.9/site-packages/OpenSSL/SSL.py:9\u001b[0m\n\u001b[1;32m      6\u001b[0m \u001b[38;5;28;01mfrom\u001b[39;00m \u001b[38;5;21;01msys\u001b[39;00m \u001b[38;5;28;01mimport\u001b[39;00m platform\n\u001b[1;32m      7\u001b[0m \u001b[38;5;28;01mfrom\u001b[39;00m \u001b[38;5;21;01mweakref\u001b[39;00m \u001b[38;5;28;01mimport\u001b[39;00m WeakValueDictionary\n\u001b[0;32m----> 9\u001b[0m \u001b[38;5;28;01mfrom\u001b[39;00m \u001b[38;5;21;01mOpenSSL\u001b[39;00m\u001b[38;5;21;01m.\u001b[39;00m\u001b[38;5;21;01m_util\u001b[39;00m \u001b[38;5;28;01mimport\u001b[39;00m (\n\u001b[1;32m     10\u001b[0m     UNSPECIFIED \u001b[38;5;28;01mas\u001b[39;00m _UNSPECIFIED,\n\u001b[1;32m     11\u001b[0m     exception_from_error_queue \u001b[38;5;28;01mas\u001b[39;00m _exception_from_error_queue,\n\u001b[1;32m     12\u001b[0m     ffi \u001b[38;5;28;01mas\u001b[39;00m _ffi,\n\u001b[1;32m     13\u001b[0m     lib \u001b[38;5;28;01mas\u001b[39;00m _lib,\n\u001b[1;32m     14\u001b[0m     make_assert \u001b[38;5;28;01mas\u001b[39;00m _make_assert,\n\u001b[1;32m     15\u001b[0m     no_zero_allocator \u001b[38;5;28;01mas\u001b[39;00m _no_zero_allocator,\n\u001b[1;32m     16\u001b[0m     path_bytes \u001b[38;5;28;01mas\u001b[39;00m _path_bytes,\n\u001b[1;32m     17\u001b[0m     text_to_bytes_and_warn \u001b[38;5;28;01mas\u001b[39;00m _text_to_bytes_and_warn,\n\u001b[1;32m     18\u001b[0m )\n\u001b[1;32m     19\u001b[0m \u001b[38;5;28;01mfrom\u001b[39;00m \u001b[38;5;21;01mOpenSSL\u001b[39;00m\u001b[38;5;21;01m.\u001b[39;00m\u001b[38;5;21;01mcrypto\u001b[39;00m \u001b[38;5;28;01mimport\u001b[39;00m (\n\u001b[1;32m     20\u001b[0m     FILETYPE_PEM,\n\u001b[1;32m     21\u001b[0m     PKey,\n\u001b[0;32m   (...)\u001b[0m\n\u001b[1;32m     25\u001b[0m     _PassphraseHelper,\n\u001b[1;32m     26\u001b[0m )\n\u001b[1;32m     28\u001b[0m __all__ \u001b[38;5;241m=\u001b[39m [\n\u001b[1;32m     29\u001b[0m     \u001b[38;5;124m\"\u001b[39m\u001b[38;5;124mOPENSSL_VERSION_NUMBER\u001b[39m\u001b[38;5;124m\"\u001b[39m,\n\u001b[1;32m     30\u001b[0m     \u001b[38;5;124m\"\u001b[39m\u001b[38;5;124mSSLEAY_VERSION\u001b[39m\u001b[38;5;124m\"\u001b[39m,\n\u001b[0;32m   (...)\u001b[0m\n\u001b[1;32m    126\u001b[0m     \u001b[38;5;124m\"\u001b[39m\u001b[38;5;124mX509VerificationCodes\u001b[39m\u001b[38;5;124m\"\u001b[39m,\n\u001b[1;32m    127\u001b[0m ]\n",
						"File \u001b[0;32m~/opt/miniconda3/envs/big-data-env/lib/python3.9/site-packages/OpenSSL/_util.py:6\u001b[0m\n\u001b[1;32m      3\u001b[0m \u001b[38;5;28;01mimport\u001b[39;00m \u001b[38;5;21;01mwarnings\u001b[39;00m\n\u001b[1;32m      4\u001b[0m \u001b[38;5;28;01mfrom\u001b[39;00m \u001b[38;5;21;01mtyping\u001b[39;00m \u001b[38;5;28;01mimport\u001b[39;00m Any, Callable, NoReturn, Type, Union\n\u001b[0;32m----> 6\u001b[0m \u001b[38;5;28;01mfrom\u001b[39;00m \u001b[38;5;21;01mcryptography\u001b[39;00m\u001b[38;5;21;01m.\u001b[39;00m\u001b[38;5;21;01mhazmat\u001b[39;00m\u001b[38;5;21;01m.\u001b[39;00m\u001b[38;5;21;01mbindings\u001b[39;00m\u001b[38;5;21;01m.\u001b[39;00m\u001b[38;5;21;01mopenssl\u001b[39;00m\u001b[38;5;21;01m.\u001b[39;00m\u001b[38;5;21;01mbinding\u001b[39;00m \u001b[38;5;28;01mimport\u001b[39;00m Binding\n\u001b[1;32m      8\u001b[0m StrOrBytesPath \u001b[38;5;241m=\u001b[39m Union[\u001b[38;5;28mstr\u001b[39m, \u001b[38;5;28mbytes\u001b[39m, os\u001b[38;5;241m.\u001b[39mPathLike]\n\u001b[1;32m     10\u001b[0m binding \u001b[38;5;241m=\u001b[39m Binding()\n",
						"File \u001b[0;32m~/opt/miniconda3/envs/big-data-env/lib/python3.9/site-packages/cryptography/hazmat/bindings/openssl/binding.py:167\u001b[0m\n\u001b[1;32m    159\u001b[0m     _openssl_assert(\n\u001b[1;32m    160\u001b[0m         _openssl\u001b[38;5;241m.\u001b[39mlib,\n\u001b[1;32m    161\u001b[0m         _openssl\u001b[38;5;241m.\u001b[39mlib\u001b[38;5;241m.\u001b[39mOpenSSL_version_num() \u001b[38;5;241m==\u001b[39m openssl\u001b[38;5;241m.\u001b[39mopenssl_version(),\n\u001b[1;32m    162\u001b[0m     )\n\u001b[1;32m    165\u001b[0m _verify_package_version(cryptography\u001b[38;5;241m.\u001b[39m__version__)\n\u001b[0;32m--> 167\u001b[0m \u001b[43mBinding\u001b[49m\u001b[38;5;241;43m.\u001b[39;49m\u001b[43minit_static_locks\u001b[49m\u001b[43m(\u001b[49m\u001b[43m)\u001b[49m\n\u001b[1;32m    169\u001b[0m \u001b[38;5;28;01mif\u001b[39;00m (\n\u001b[1;32m    170\u001b[0m     sys\u001b[38;5;241m.\u001b[39mplatform \u001b[38;5;241m==\u001b[39m \u001b[38;5;124m\"\u001b[39m\u001b[38;5;124mwin32\u001b[39m\u001b[38;5;124m\"\u001b[39m\n\u001b[1;32m    171\u001b[0m     \u001b[38;5;129;01mand\u001b[39;00m os\u001b[38;5;241m.\u001b[39menviron\u001b[38;5;241m.\u001b[39mget(\u001b[38;5;124m\"\u001b[39m\u001b[38;5;124mPROCESSOR_ARCHITEW6432\u001b[39m\u001b[38;5;124m\"\u001b[39m) \u001b[38;5;129;01mis\u001b[39;00m \u001b[38;5;129;01mnot\u001b[39;00m \u001b[38;5;28;01mNone\u001b[39;00m\n\u001b[1;32m    172\u001b[0m ):\n\u001b[1;32m    173\u001b[0m     warnings\u001b[38;5;241m.\u001b[39mwarn(\n\u001b[1;32m    174\u001b[0m         \u001b[38;5;124m\"\u001b[39m\u001b[38;5;124mYou are using cryptography on a 32-bit Python on a 64-bit Windows \u001b[39m\u001b[38;5;124m\"\u001b[39m\n\u001b[1;32m    175\u001b[0m         \u001b[38;5;124m\"\u001b[39m\u001b[38;5;124mOperating System. Cryptography will be significantly faster if you \u001b[39m\u001b[38;5;124m\"\u001b[39m\n\u001b[0;32m   (...)\u001b[0m\n\u001b[1;32m    178\u001b[0m         stacklevel\u001b[38;5;241m=\u001b[39m\u001b[38;5;241m2\u001b[39m,\n\u001b[1;32m    179\u001b[0m     )\n",
						"File \u001b[0;32m~/opt/miniconda3/envs/big-data-env/lib/python3.9/site-packages/cryptography/hazmat/bindings/openssl/binding.py:134\u001b[0m, in \u001b[0;36mBinding.init_static_locks\u001b[0;34m(cls)\u001b[0m\n\u001b[1;32m    132\u001b[0m \u001b[38;5;129m@classmethod\u001b[39m\n\u001b[1;32m    133\u001b[0m \u001b[38;5;28;01mdef\u001b[39;00m \u001b[38;5;21minit_static_locks\u001b[39m(\u001b[38;5;28mcls\u001b[39m) \u001b[38;5;241m-\u001b[39m\u001b[38;5;241m>\u001b[39m \u001b[38;5;28;01mNone\u001b[39;00m:\n\u001b[0;32m--> 134\u001b[0m     \u001b[38;5;28;43mcls\u001b[39;49m\u001b[38;5;241;43m.\u001b[39;49m\u001b[43m_ensure_ffi_initialized\u001b[49m\u001b[43m(\u001b[49m\u001b[43m)\u001b[49m\n",
						"File \u001b[0;32m~/opt/miniconda3/envs/big-data-env/lib/python3.9/site-packages/cryptography/hazmat/bindings/openssl/binding.py:123\u001b[0m, in \u001b[0;36mBinding._ensure_ffi_initialized\u001b[0;34m(cls)\u001b[0m\n\u001b[1;32m    117\u001b[0m     \u001b[38;5;28mcls\u001b[39m\u001b[38;5;241m.\u001b[39m_legacy_provider \u001b[38;5;241m=\u001b[39m \u001b[38;5;28mcls\u001b[39m\u001b[38;5;241m.\u001b[39mlib\u001b[38;5;241m.\u001b[39mOSSL_PROVIDER_load(\n\u001b[1;32m    118\u001b[0m         \u001b[38;5;28mcls\u001b[39m\u001b[38;5;241m.\u001b[39mffi\u001b[38;5;241m.\u001b[39mNULL, \u001b[38;5;124mb\u001b[39m\u001b[38;5;124m\"\u001b[39m\u001b[38;5;124mlegacy\u001b[39m\u001b[38;5;124m\"\u001b[39m\n\u001b[1;32m    119\u001b[0m     )\n\u001b[1;32m    120\u001b[0m     \u001b[38;5;28mcls\u001b[39m\u001b[38;5;241m.\u001b[39m_legacy_provider_loaded \u001b[38;5;241m=\u001b[39m (\n\u001b[1;32m    121\u001b[0m         \u001b[38;5;28mcls\u001b[39m\u001b[38;5;241m.\u001b[39m_legacy_provider \u001b[38;5;241m!=\u001b[39m \u001b[38;5;28mcls\u001b[39m\u001b[38;5;241m.\u001b[39mffi\u001b[38;5;241m.\u001b[39mNULL\n\u001b[1;32m    122\u001b[0m     )\n\u001b[0;32m--> 123\u001b[0m     \u001b[43m_legacy_provider_error\u001b[49m\u001b[43m(\u001b[49m\u001b[38;5;28;43mcls\u001b[39;49m\u001b[38;5;241;43m.\u001b[39;49m\u001b[43m_legacy_provider_loaded\u001b[49m\u001b[43m)\u001b[49m\n\u001b[1;32m    125\u001b[0m \u001b[38;5;28mcls\u001b[39m\u001b[38;5;241m.\u001b[39m_default_provider \u001b[38;5;241m=\u001b[39m \u001b[38;5;28mcls\u001b[39m\u001b[38;5;241m.\u001b[39mlib\u001b[38;5;241m.\u001b[39mOSSL_PROVIDER_load(\n\u001b[1;32m    126\u001b[0m     \u001b[38;5;28mcls\u001b[39m\u001b[38;5;241m.\u001b[39mffi\u001b[38;5;241m.\u001b[39mNULL, \u001b[38;5;124mb\u001b[39m\u001b[38;5;124m\"\u001b[39m\u001b[38;5;124mdefault\u001b[39m\u001b[38;5;124m\"\u001b[39m\n\u001b[1;32m    127\u001b[0m )\n\u001b[1;32m    128\u001b[0m _openssl_assert(\n\u001b[1;32m    129\u001b[0m     \u001b[38;5;28mcls\u001b[39m\u001b[38;5;241m.\u001b[39mlib, \u001b[38;5;28mcls\u001b[39m\u001b[38;5;241m.\u001b[39m_default_provider \u001b[38;5;241m!=\u001b[39m \u001b[38;5;28mcls\u001b[39m\u001b[38;5;241m.\u001b[39mffi\u001b[38;5;241m.\u001b[39mNULL\n\u001b[1;32m    130\u001b[0m )\n",
						"File \u001b[0;32m~/opt/miniconda3/envs/big-data-env/lib/python3.9/site-packages/cryptography/hazmat/bindings/openssl/binding.py:43\u001b[0m, in \u001b[0;36m_legacy_provider_error\u001b[0;34m(loaded)\u001b[0m\n\u001b[1;32m     41\u001b[0m \u001b[38;5;28;01mdef\u001b[39;00m \u001b[38;5;21m_legacy_provider_error\u001b[39m(loaded: \u001b[38;5;28mbool\u001b[39m) \u001b[38;5;241m-\u001b[39m\u001b[38;5;241m>\u001b[39m \u001b[38;5;28;01mNone\u001b[39;00m:\n\u001b[1;32m     42\u001b[0m     \u001b[38;5;28;01mif\u001b[39;00m \u001b[38;5;129;01mnot\u001b[39;00m loaded:\n\u001b[0;32m---> 43\u001b[0m         \u001b[38;5;28;01mraise\u001b[39;00m \u001b[38;5;167;01mRuntimeError\u001b[39;00m(\n\u001b[1;32m     44\u001b[0m             \u001b[38;5;124m\"\u001b[39m\u001b[38;5;124mOpenSSL 3.0\u001b[39m\u001b[38;5;124m'\u001b[39m\u001b[38;5;124ms legacy provider failed to load. This is a fatal \u001b[39m\u001b[38;5;124m\"\u001b[39m\n\u001b[1;32m     45\u001b[0m             \u001b[38;5;124m\"\u001b[39m\u001b[38;5;124merror by default, but cryptography supports running without \u001b[39m\u001b[38;5;124m\"\u001b[39m\n\u001b[1;32m     46\u001b[0m             \u001b[38;5;124m\"\u001b[39m\u001b[38;5;124mlegacy algorithms by setting the environment variable \u001b[39m\u001b[38;5;124m\"\u001b[39m\n\u001b[1;32m     47\u001b[0m             \u001b[38;5;124m\"\u001b[39m\u001b[38;5;124mCRYPTOGRAPHY_OPENSSL_NO_LEGACY. If you did not expect this error,\u001b[39m\u001b[38;5;124m\"\u001b[39m\n\u001b[1;32m     48\u001b[0m             \u001b[38;5;124m\"\u001b[39m\u001b[38;5;124m you have likely made a mistake with your OpenSSL configuration.\u001b[39m\u001b[38;5;124m\"\u001b[39m\n\u001b[1;32m     49\u001b[0m         )\n",
						"\u001b[0;31mRuntimeError\u001b[0m: OpenSSL 3.0's legacy provider failed to load. This is a fatal error by default, but cryptography supports running without legacy algorithms by setting the environment variable CRYPTOGRAPHY_OPENSSL_NO_LEGACY. If you did not expect this error, you have likely made a mistake with your OpenSSL configuration."
					]
				}
			],
			"source": [
				"# %idle_timeout 120\n",
				"# %glue_version 4.0\n",
				"# %worker_type G.1X\n",
				"# %number_of_workers 2\n",
				"\n",
				"import boto3\n",
				"import sys\n",
				"from awsglue.dynamicframe import DynamicFrame\n",
				"from awsglue.transforms import *\n",
				"from awsglue.utils import getResolvedOptions\n",
				"from pyspark.context import SparkContext\n",
				"from pyspark.sql.functions import *\n",
				"from awsglue.context import GlueContext\n",
				"from awsglue.job import Job\n",
				"  \n",
				"sc = SparkContext.getOrCreate()\n",
				"glueContext = GlueContext(sc)\n",
				"spark = glueContext.spark_session\n",
				"job = Job(glueContext)"
			]
		},
		{
			"cell_type": "code",
			"execution_count": null,
			"id": "7a4db5b0",
			"metadata": {},
			"outputs": [],
			"source": [
				"# Optimize the data movement from pandas to Spark DataFrame and back\n",
				"spark.conf.set(\"spark.sql.execution.arrow.pyspark.enabled\", \"true\")\n",
				"\n",
				"# You can define a distributed Spark DataFrame, to read the data in a distributed way and be able to process large data\n",
				"# Here it takes a bit of time because we ask it to infer schema, in practice could just let it set everything as string\n",
				"# and handle the schema manually\n",
				"sdf = spark.read.csv(\"s3://awsglue-datasets/examples/medicare/Medicare_Hospital_Provider.csv\", \n",
				"                     header=True, inferSchema=True)"
			]
		},
		{
			"cell_type": "code",
			"execution_count": null,
			"id": "7f867e92",
			"metadata": {},
			"outputs": [],
			"source": [
				"# The schema inference considered the dollar amounts as string due to the $ symbol\n",
				"# Also in the csv there are some header with extra spaces, we'll deal with that later\n",
				"sdf.printSchema()"
			]
		},
		{
			"cell_type": "code",
			"execution_count": null,
			"id": "473bf9ac",
			"metadata": {},
			"outputs": [],
			"source": [
				"# The last 3 columns are dollar amounts, let's parse them into Decimal numbers for calculations\n",
				"last_3cols = sdf.columns[-3:]\n",
				"# These transformations are just defined here, until we extract the data Spark won't do the work (lazy execution)\n",
				"for col_name in last_3cols:\n",
				"    # Note: normally for monies it's better to use decimal but pandas doesn't support it\n",
				"    sdf = sdf.withColumn(col_name, regexp_replace(sdf[col_name], '\\$', '').cast('double'))\n",
				"\n",
				"# The zip code is not really a number\n",
				"sdf = sdf.withColumn('Provider Zip Code', sdf['Provider Zip Code'].cast('string'))"
			]
		},
		{
			"cell_type": "code",
			"execution_count": null,
			"id": "68372c4f",
			"metadata": {},
			"outputs": [],
			"source": [
				"# Check the parsing is working fine\n",
				"sdf.show(n=10)"
			]
		},
		{
			"cell_type": "code",
			"execution_count": null,
			"id": "150b2e81",
			"metadata": {},
			"outputs": [],
			"source": [
				"# Let's say you are only interested in California\n",
				"sdf_ca = sdf.filter('`Provider State` == \"CA\"')\n",
				"\n",
				"# Now that we have narrowed down the data, it's small enough that we can convert into a native pandas DataFrame\n",
				"# Unlike sdf which reads data distributed and when needed, this pdf uses the driver memory to store the data\n",
				"# so is faster for smaller data as long as it fits\n",
				"pdf_ca = sdf_ca.toPandas()\n",
				"\n",
				"# The column names in the csv have extra spaces, in pandas we can trim that easily\n",
				"pdf_ca.columns = [c.strip() for c in pdf_ca.columns]"
			]
		},
		{
			"cell_type": "code",
			"execution_count": null,
			"id": "4d69ff44",
			"metadata": {},
			"outputs": [],
			"source": [
				"# Check the pandas schema\n",
				"pdf_ca.dtypes"
			]
		},
		{
			"cell_type": "code",
			"execution_count": null,
			"id": "42882f97",
			"metadata": {},
			"outputs": [],
			"source": [
				"# Explore the statistics of the numeric columns\n",
				"import pandas as pd\n",
				"import numpy as np\n",
				"pd.set_option('display.max_columns', 5)\n",
				"pd.set_option('max_colwidth', 30)\n",
				"pdf_ca.describe()"
			]
		},
		{
			"cell_type": "code",
			"execution_count": null,
			"id": "d0310bfc",
			"metadata": {},
			"outputs": [],
			"source": [
				"# Plot a histogram on the notebook directly from pandas\n",
				"import matplotlib.pyplot as plt\n",
				"plt.figure()\n",
				"plt.title(\"Histogram of average Medicare payments\")\n",
				"plt.xlabel(\"Average payment in dollars\")\n",
				"histogram = pdf_ca['Average Medicare Payments'].plot.hist(bins=12, alpha=0.5)\n",
				"%matplot plt"
			]
		},
		{
			"cell_type": "markdown",
			"id": "fcb425ef",
			"metadata": {},
			"source": [
				"If you have more experience with the pandas APIs would rather use that instead of Spark DataFrame  \n",
				"But notice that while we use native pandas, only the driver was doing work and the rest of the cluster is not used   \n",
				"That's why we set the minimum size: *%number_of_workers 2*  \n",
				"\n",
				"On Glue 4.0, you can get both distributed computed and the pandas syntax by using the \"pandas on Spark\" API, it's not yet 100% compatible but should work for most cases"
			]
		},
		{
			"cell_type": "code",
			"execution_count": null,
			"id": "a74e182e",
			"metadata": {},
			"outputs": [],
			"source": [
				"# The following cells will only work on Glue 4.0\n",
				"# psdf is a pandas on Spark DataFrame, uses the pandas API but the data and processing is distributed\n",
				"# this means it has higher latency but also can scale beyond a single node to handler larger data\n",
				"psdf = sdf.pandas_api()\n",
				"psdf.columns = [c.strip() for c in psdf.columns]\n",
				"# Statistics on the full dataset\n",
				"psdf.describe()"
			]
		},
		{
			"cell_type": "code",
			"execution_count": null,
			"id": "fc32263a",
			"metadata": {},
			"outputs": [],
			"source": [
				"# Operate the data in a distributed way but using pandas syntax\n",
				"relevant_psdf = psdf[(psdf['Total Discharges'] > 100) & (psdf['Average Medicare Payments'] > 10000)]\n",
				"relevant_psdf.groupby([\"Provider State\", \"Provider Id\"])[\"Average Medicare Payments\"].max()"
			]
		},
		{
			"cell_type": "markdown",
			"id": "78801bf9",
			"metadata": {},
			"source": [
				"Note that in the previous cell the output is not equivalent than the same on native pandas, which displays the results grouped by the first column.   \n",
				"Also running a sort before the groupby wouldn't work the same way, in this case the data is distributed so it's unsorted again when doing the groupby. "
			]
		},
		{
			"cell_type": "code",
			"execution_count": null,
			"id": "a264ce60",
			"metadata": {},
			"outputs": [],
			"source": [
				"# Convert back to Spark DataFrame if you want leverage the data saving features (for instance creating a catalog table)\n",
				"# https://spark.apache.org/docs/latest/api/python/reference/pyspark.sql/api/pyspark.sql.DataFrameWriter.html\n",
				"relevant_sdf = relevant_psdf.to_spark()\n",
				"relevant_sdf.show()\n",
				"\n",
				"# Or go a step further and convert to DynamicFrame to use its sinks and features\n",
				"# https://docs.aws.amazon.com/glue/latest/dg/aws-glue-api-crawler-pyspark-extensions-dynamic-frame-writer.html\n",
				"relevant_dynf = DynamicFrame.fromDF(relevant_sdf, glueContext, \"\")"
			]
		}
	],
	"metadata": {
		"kernelspec": {
			"display_name": "big-data-env",
			"language": "python",
			"name": "python3"
		},
		"language_info": {
			"codemirror_mode": {
				"name": "ipython",
				"version": 3
			},
			"file_extension": ".py",
			"mimetype": "text/x-python",
			"name": "python",
			"nbconvert_exporter": "python",
			"pygments_lexer": "ipython3",
			"version": "3.9.18"
		}
	},
	"nbformat": 4,
	"nbformat_minor": 5
}
