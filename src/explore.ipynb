{
 "cells": [
  {
   "cell_type": "code",
   "execution_count": 24,
   "metadata": {},
   "outputs": [],
   "source": [
    "import glob\n",
    "import pandas as pd\n",
    "pd.set_option('display.max_columns', None)"
   ]
  },
  {
   "cell_type": "markdown",
   "metadata": {},
   "source": [
    "# Explore `atp_matches_<year>.csv`"
   ]
  },
  {
   "cell_type": "code",
   "execution_count": 25,
   "metadata": {},
   "outputs": [],
   "source": [
    "atp_matches_2020 = pd.read_csv('tennis_atp/atp_matches_2020.csv')"
   ]
  },
  {
   "cell_type": "code",
   "execution_count": 26,
   "metadata": {},
   "outputs": [
    {
     "name": "stdout",
     "output_type": "stream",
     "text": [
      "\n",
      "ATP Matches 2020 Information:\n",
      "<class 'pandas.core.frame.DataFrame'>\n",
      "RangeIndex: 1462 entries, 0 to 1461\n",
      "Data columns (total 49 columns):\n",
      " #   Column              Non-Null Count  Dtype  \n",
      "---  ------              --------------  -----  \n",
      " 0   tourney_id          1462 non-null   object \n",
      " 1   tourney_name        1462 non-null   object \n",
      " 2   surface             1462 non-null   object \n",
      " 3   draw_size           1462 non-null   int64  \n",
      " 4   tourney_level       1462 non-null   object \n",
      " 5   tourney_date        1462 non-null   int64  \n",
      " 6   match_num           1462 non-null   int64  \n",
      " 7   winner_id           1462 non-null   int64  \n",
      " 8   winner_seed         578 non-null    float64\n",
      " 9   winner_entry        233 non-null    object \n",
      " 10  winner_name         1462 non-null   object \n",
      " 11  winner_hand         1462 non-null   object \n",
      " 12  winner_ht           1451 non-null   float64\n",
      " 13  winner_ioc          1462 non-null   object \n",
      " 14  winner_age          1462 non-null   float64\n",
      " 15  loser_id            1462 non-null   int64  \n",
      " 16  loser_seed          325 non-null    float64\n",
      " 17  loser_entry         327 non-null    object \n",
      " 18  loser_name          1462 non-null   object \n",
      " 19  loser_hand          1458 non-null   object \n",
      " 20  loser_ht            1426 non-null   float64\n",
      " 21  loser_ioc           1462 non-null   object \n",
      " 22  loser_age           1462 non-null   float64\n",
      " 23  score               1462 non-null   object \n",
      " 24  best_of             1462 non-null   int64  \n",
      " 25  round               1462 non-null   object \n",
      " 26  minutes             1421 non-null   float64\n",
      " 27  w_ace               1415 non-null   float64\n",
      " 28  w_df                1415 non-null   float64\n",
      " 29  w_svpt              1415 non-null   float64\n",
      " 30  w_1stIn             1415 non-null   float64\n",
      " 31  w_1stWon            1415 non-null   float64\n",
      " 32  w_2ndWon            1415 non-null   float64\n",
      " 33  w_SvGms             1415 non-null   float64\n",
      " 34  w_bpSaved           1415 non-null   float64\n",
      " 35  w_bpFaced           1415 non-null   float64\n",
      " 36  l_ace               1415 non-null   float64\n",
      " 37  l_df                1415 non-null   float64\n",
      " 38  l_svpt              1415 non-null   float64\n",
      " 39  l_1stIn             1415 non-null   float64\n",
      " 40  l_1stWon            1415 non-null   float64\n",
      " 41  l_2ndWon            1415 non-null   float64\n",
      " 42  l_SvGms             1415 non-null   float64\n",
      " 43  l_bpSaved           1415 non-null   float64\n",
      " 44  l_bpFaced           1415 non-null   float64\n",
      " 45  winner_rank         1448 non-null   float64\n",
      " 46  winner_rank_points  1448 non-null   float64\n",
      " 47  loser_rank          1427 non-null   float64\n",
      " 48  loser_rank_points   1427 non-null   float64\n",
      "dtypes: float64(29), int64(6), object(14)\n",
      "memory usage: 559.8+ KB\n",
      "None\n"
     ]
    }
   ],
   "source": [
    "print(\"\\nATP Matches 2020 Information:\")\n",
    "print(atp_matches_2020.info())"
   ]
  },
  {
   "cell_type": "code",
   "execution_count": 27,
   "metadata": {},
   "outputs": [
    {
     "name": "stdout",
     "output_type": "stream",
     "text": [
      "Head of the dataframe:\n",
      "  tourney_id tourney_name surface  draw_size tourney_level  tourney_date  \\\n",
      "0  2020-8888      Atp Cup    Hard         24             A      20200106   \n",
      "1  2020-8888      Atp Cup    Hard         24             A      20200106   \n",
      "2  2020-8888      Atp Cup    Hard         24             A      20200106   \n",
      "3  2020-8888      Atp Cup    Hard         24             A      20200106   \n",
      "4  2020-8888      Atp Cup    Hard         24             A      20200106   \n",
      "\n",
      "   match_num  winner_id  winner_seed winner_entry            winner_name  \\\n",
      "0        300     104925          NaN          NaN         Novak Djokovic   \n",
      "1        299     105138          NaN          NaN  Roberto Bautista Agut   \n",
      "2        298     104925          NaN          NaN         Novak Djokovic   \n",
      "3        297     105583          NaN          NaN          Dusan Lajovic   \n",
      "4        296     104745          NaN          NaN           Rafael Nadal   \n",
      "\n",
      "  winner_hand  winner_ht winner_ioc  winner_age  loser_id  loser_seed  \\\n",
      "0           R      188.0        SRB        32.6    104745         NaN   \n",
      "1           R      183.0        ESP        31.7    105583         NaN   \n",
      "2           R      188.0        SRB        32.6    106421         NaN   \n",
      "3           R      180.0        SRB        29.5    111575         NaN   \n",
      "4           L      185.0        ESP        33.5    200282         NaN   \n",
      "\n",
      "  loser_entry       loser_name loser_hand  loser_ht loser_ioc  loser_age  \\\n",
      "0         NaN     Rafael Nadal          L     185.0       ESP       33.5   \n",
      "1         NaN    Dusan Lajovic          R     180.0       SRB       29.5   \n",
      "2         NaN  Daniil Medvedev          R     198.0       RUS       23.9   \n",
      "3         NaN  Karen Khachanov          R     198.0       RUS       23.6   \n",
      "4         NaN   Alex De Minaur          R     183.0       AUS       20.8   \n",
      "\n",
      "         score  best_of round  minutes  w_ace  w_df  w_svpt  w_1stIn  \\\n",
      "0   6-2 7-6(4)        3     F    115.0   12.0   2.0    64.0     49.0   \n",
      "1      7-5 6-1        3     F     97.0    2.0   1.0    59.0     44.0   \n",
      "2  6-1 5-7 6-4        3    SF    167.0    4.0   5.0   111.0     75.0   \n",
      "3   7-5 7-6(1)        3    SF    108.0    1.0   1.0    67.0     48.0   \n",
      "4  4-6 7-5 6-1        3    SF    133.0    5.0   3.0    84.0     61.0   \n",
      "\n",
      "   w_1stWon  w_2ndWon  w_SvGms  w_bpSaved  w_bpFaced  l_ace  l_df  l_svpt  \\\n",
      "0      41.0       9.0     10.0        5.0        5.0    5.0   3.0    70.0   \n",
      "1      29.0      10.0     10.0        3.0        5.0    2.0   1.0    57.0   \n",
      "2      53.0      16.0     15.0        8.0       11.0    6.0   5.0   108.0   \n",
      "3      38.0      14.0     12.0        0.0        0.0    9.0   3.0    79.0   \n",
      "4      48.0      10.0     15.0        1.0        3.0    6.0   1.0    75.0   \n",
      "\n",
      "   l_1stIn  l_1stWon  l_2ndWon  l_SvGms  l_bpSaved  l_bpFaced  winner_rank  \\\n",
      "0     51.0      39.0       6.0     10.0        6.0        8.0          2.0   \n",
      "1     35.0      21.0       6.0      9.0        5.0       10.0         10.0   \n",
      "2     57.0      35.0      25.0     14.0        6.0       11.0          2.0   \n",
      "3     54.0      39.0      14.0     12.0        0.0        1.0         34.0   \n",
      "4     55.0      37.0      10.0     14.0        1.0        5.0          1.0   \n",
      "\n",
      "   winner_rank_points  loser_rank  loser_rank_points  \n",
      "0              9055.0         1.0             9985.0  \n",
      "1              2335.0        34.0             1251.0  \n",
      "2              9055.0         5.0             5705.0  \n",
      "3              1251.0        17.0             1840.0  \n",
      "4              9985.0        18.0             1775.0  \n",
      "\n",
      "Tail of the dataframe:\n",
      "     tourney_id tourney_name surface  draw_size tourney_level  tourney_date  \\\n",
      "1457  2020-7485      Antwerp    Hard         32             A      20201019   \n",
      "1458  2020-7485      Antwerp    Hard         32             A      20201019   \n",
      "1459  2020-7485      Antwerp    Hard         32             A      20201019   \n",
      "1460  2020-7485      Antwerp    Hard         32             A      20201019   \n",
      "1461  2020-7485      Antwerp    Hard         32             A      20201019   \n",
      "\n",
      "      match_num  winner_id  winner_seed winner_entry   winner_name  \\\n",
      "1457        125     105554          NaN          NaN  Daniel Evans   \n",
      "1458        126     200267          NaN           WC   Zizou Bergs   \n",
      "1459        128     126203          7.0          NaN  Taylor Fritz   \n",
      "1460        129     144750          NaN            Q  Lloyd Harris   \n",
      "1461        130     200005          NaN          NaN   Ugo Humbert   \n",
      "\n",
      "     winner_hand  winner_ht winner_ioc  winner_age  loser_id  loser_seed  \\\n",
      "1457           R      175.0        GBR        30.4    106099         NaN   \n",
      "1458           R      185.0        BEL        21.3    105077         NaN   \n",
      "1459           R      193.0        USA        22.9    124187         NaN   \n",
      "1460           R      193.0        RSA        23.6    144895         NaN   \n",
      "1461           L      188.0        FRA        22.3    106293         NaN   \n",
      "\n",
      "     loser_entry        loser_name loser_hand  loser_ht loser_ioc  loser_age  \\\n",
      "1457           Q  Salvatore Caruso          R     185.0       ITA       27.8   \n",
      "1458         NaN      Albert Ramos          L     188.0       ESP       32.7   \n",
      "1459         NaN     Reilly Opelka          R     211.0       USA       23.1   \n",
      "1460         NaN   Corentin Moutet          L     178.0       FRA       21.5   \n",
      "1461          WC  Kimmer Coppejans          R     180.0       BEL       26.6   \n",
      "\n",
      "            score  best_of round  minutes  w_ace  w_df  w_svpt  w_1stIn  \\\n",
      "1457  6-2 3-6 6-3        3   R32    115.0    9.0   2.0    70.0     47.0   \n",
      "1458      7-5 7-5        3   R32    102.0    7.0   2.0    77.0     54.0   \n",
      "1459   7-6(5) 6-1        3   R32     67.0   10.0   1.0    59.0     44.0   \n",
      "1460      7-5 6-2        3   R32     84.0    7.0   2.0    49.0     33.0   \n",
      "1461      6-4 6-3        3   R32     73.0    3.0   2.0    53.0     26.0   \n",
      "\n",
      "      w_1stWon  w_2ndWon  w_SvGms  w_bpSaved  w_bpFaced  l_ace  l_df  l_svpt  \\\n",
      "1457      36.0      14.0     13.0        1.0        3.0    4.0   1.0    77.0   \n",
      "1458      33.0      13.0     12.0        6.0        9.0    1.0   3.0    66.0   \n",
      "1459      39.0       6.0     10.0        0.0        0.0   19.0   3.0    58.0   \n",
      "1460      28.0      11.0     10.0        1.0        2.0    0.0   2.0    62.0   \n",
      "1461      24.0      17.0     10.0        3.0        3.0    2.0   0.0    49.0   \n",
      "\n",
      "      l_1stIn  l_1stWon  l_2ndWon  l_SvGms  l_bpSaved  l_bpFaced  winner_rank  \\\n",
      "1457     43.0      31.0      14.0     13.0        3.0        7.0         35.0   \n",
      "1458     45.0      27.0      10.0     12.0        4.0        9.0        528.0   \n",
      "1459     37.0      30.0       5.0      9.0        3.0        5.0         28.0   \n",
      "1460     45.0      29.0       5.0     10.0        7.0       11.0         90.0   \n",
      "1461     32.0      26.0       7.0      9.0        2.0        4.0         38.0   \n",
      "\n",
      "      winner_rank_points  loser_rank  loser_rank_points  \n",
      "1457              1384.0        79.0              802.0  \n",
      "1458                58.0        45.0             1165.0  \n",
      "1459              1670.0        33.0             1402.0  \n",
      "1460               748.0        74.0              838.0  \n",
      "1461              1306.0       172.0              353.0  \n"
     ]
    }
   ],
   "source": [
    "print(\"Head of the dataframe:\")\n",
    "print(atp_matches_2020.head())\n",
    "\n",
    "print(\"\\nTail of the dataframe:\")\n",
    "print(atp_matches_2020.tail())"
   ]
  },
  {
   "cell_type": "code",
   "execution_count": 28,
   "metadata": {},
   "outputs": [
    {
     "name": "stdout",
     "output_type": "stream",
     "text": [
      "ATP Matches 2020 Statistics:\n",
      "         draw_size  tourney_date    match_num      winner_id  winner_seed  \\\n",
      "count  1462.000000  1.462000e+03  1462.000000    1462.000000   578.000000   \n",
      "mean     57.803010  2.020056e+07   317.791382  121983.125855     7.664360   \n",
      "std      43.820298  3.894934e+02   291.604987   30605.749267     7.240231   \n",
      "min       4.000000  2.020011e+07     1.000000  100644.000000     1.000000   \n",
      "25%      32.000000  2.020020e+07   214.250000  105379.000000     3.000000   \n",
      "50%      32.000000  2.020031e+07   278.000000  106210.000000     5.000000   \n",
      "75%     128.000000  2.020093e+07   292.000000  126203.750000     9.000000   \n",
      "max     128.000000  2.020112e+07  1701.000000  209874.000000    32.000000   \n",
      "\n",
      "         winner_ht   winner_age       loser_id  loser_seed     loser_ht  \\\n",
      "count  1451.000000  1462.000000    1462.000000  325.000000  1426.000000   \n",
      "mean    187.391454    26.911765  121264.532832    8.735385   186.352034   \n",
      "std       7.089655     4.703324   30112.751939    7.596954     6.915494   \n",
      "min     170.000000    15.800000  100644.000000    1.000000   170.000000   \n",
      "25%     183.000000    22.900000  105430.000000    4.000000   183.000000   \n",
      "50%     188.000000    26.900000  106078.000000    6.000000   185.000000   \n",
      "75%     193.000000    30.300000  126203.000000   11.000000   190.000000   \n",
      "max     211.000000    40.800000  209873.000000   32.000000   211.000000   \n",
      "\n",
      "         loser_age      best_of      minutes        w_ace         w_df  \\\n",
      "count  1462.000000  1462.000000  1421.000000  1415.000000  1415.000000   \n",
      "mean     27.252257     3.521204   118.978888     7.253004     2.681272   \n",
      "std       4.632911     0.878226    45.322128     5.735780     2.285687   \n",
      "min      16.100000     3.000000     0.000000     0.000000     0.000000   \n",
      "25%      23.325000     3.000000    85.000000     3.000000     1.000000   \n",
      "50%      27.300000     3.000000   113.000000     6.000000     2.000000   \n",
      "75%      30.400000     5.000000   142.000000    10.000000     4.000000   \n",
      "max      41.500000     5.000000   365.000000    46.000000    16.000000   \n",
      "\n",
      "            w_svpt      w_1stIn     w_1stWon     w_2ndWon      w_SvGms  \\\n",
      "count  1415.000000  1415.000000  1415.000000  1415.000000  1415.000000   \n",
      "mean     82.332862    52.008481    39.252297    16.546996    13.197173   \n",
      "std      30.844459    20.435290    14.359078     6.704441     4.473874   \n",
      "min       4.000000     3.000000     3.000000     1.000000     1.000000   \n",
      "25%      59.000000    36.500000    28.500000    12.000000    10.000000   \n",
      "50%      77.000000    49.000000    37.000000    16.000000    12.000000   \n",
      "75%      99.000000    63.000000    47.000000    20.000000    15.000000   \n",
      "max     244.000000   161.000000   102.000000    44.000000    36.000000   \n",
      "\n",
      "         w_bpSaved    w_bpFaced        l_ace         l_df       l_svpt  \\\n",
      "count  1415.000000  1415.000000  1415.000000  1415.000000  1415.000000   \n",
      "mean      3.795053     5.491873     5.345583     3.318728    85.643816   \n",
      "std       3.144624     4.242279     5.125305     2.546770    31.333906   \n",
      "min       0.000000     0.000000     0.000000     0.000000    11.000000   \n",
      "25%       1.000000     2.000000     2.000000     2.000000    63.000000   \n",
      "50%       3.000000     5.000000     4.000000     3.000000    80.000000   \n",
      "75%       6.000000     8.000000     7.000000     4.000000   102.000000   \n",
      "max      19.000000    30.000000    52.000000    15.000000   215.000000   \n",
      "\n",
      "           l_1stIn     l_1stWon     l_2ndWon      l_SvGms    l_bpSaved  \\\n",
      "count  1415.000000  1415.000000  1415.000000  1415.000000  1415.000000   \n",
      "mean     52.664311    35.047350    15.108834    12.915901     5.128622   \n",
      "std      21.147317    15.534918     7.030709     4.465885     3.428043   \n",
      "min       8.000000     2.000000     1.000000     2.000000     0.000000   \n",
      "25%      38.000000    24.000000    10.000000    10.000000     3.000000   \n",
      "50%      49.000000    33.000000    14.000000    12.000000     4.000000   \n",
      "75%      64.000000    43.000000    19.000000    15.000000     7.000000   \n",
      "max     154.000000   104.000000    43.000000    36.000000    27.000000   \n",
      "\n",
      "         l_bpFaced  winner_rank  winner_rank_points   loser_rank  \\\n",
      "count  1415.000000  1448.000000         1448.000000  1427.000000   \n",
      "mean      9.130742    76.821133         1931.919890   107.234758   \n",
      "std       4.392582   132.965820         2340.704825   172.371261   \n",
      "min       0.000000     1.000000            1.000000     1.000000   \n",
      "25%       6.000000    18.000000          688.250000    33.500000   \n",
      "50%       9.000000    44.000000         1124.000000    67.000000   \n",
      "75%      11.000000    87.000000         2051.250000   108.000000   \n",
      "max      35.000000  1671.000000        11830.000000  1752.000000   \n",
      "\n",
      "       loser_rank_points  \n",
      "count        1427.000000  \n",
      "mean         1188.539594  \n",
      "std          1374.026909  \n",
      "min             1.000000  \n",
      "25%           543.000000  \n",
      "50%           838.000000  \n",
      "75%          1344.000000  \n",
      "max         11830.000000  \n"
     ]
    }
   ],
   "source": [
    "print(\"ATP Matches 2020 Statistics:\")\n",
    "print(atp_matches_2020.describe())"
   ]
  },
  {
   "cell_type": "markdown",
   "metadata": {},
   "source": [
    "# Explore `atp_matches_futures_<year>.csv`"
   ]
  },
  {
   "cell_type": "code",
   "execution_count": 31,
   "metadata": {},
   "outputs": [],
   "source": [
    "atp_matches_futures_2020 = pd.read_csv('tennis_atp/atp_matches_futures_2020.csv')"
   ]
  },
  {
   "cell_type": "code",
   "execution_count": 32,
   "metadata": {},
   "outputs": [
    {
     "name": "stdout",
     "output_type": "stream",
     "text": [
      "\n",
      "ATP Matches Futures 2020 Information:\n",
      "<class 'pandas.core.frame.DataFrame'>\n",
      "RangeIndex: 4586 entries, 0 to 4585\n",
      "Data columns (total 49 columns):\n",
      " #   Column              Non-Null Count  Dtype  \n",
      "---  ------              --------------  -----  \n",
      " 0   tourney_id          4586 non-null   object \n",
      " 1   tourney_name        4586 non-null   object \n",
      " 2   surface             4586 non-null   object \n",
      " 3   draw_size           4586 non-null   int64  \n",
      " 4   tourney_level       4586 non-null   int64  \n",
      " 5   tourney_date        4586 non-null   int64  \n",
      " 6   match_num           4586 non-null   int64  \n",
      " 7   winner_id           4586 non-null   int64  \n",
      " 8   winner_seed         1878 non-null   float64\n",
      " 9   winner_entry        1091 non-null   object \n",
      " 10  winner_name         4586 non-null   object \n",
      " 11  winner_hand         4585 non-null   object \n",
      " 12  winner_ht           1578 non-null   float64\n",
      " 13  winner_ioc          4586 non-null   object \n",
      " 14  winner_age          4582 non-null   float64\n",
      " 15  loser_id            4586 non-null   int64  \n",
      " 16  loser_seed          1043 non-null   float64\n",
      " 17  loser_entry         1722 non-null   object \n",
      " 18  loser_name          4586 non-null   object \n",
      " 19  loser_hand          4576 non-null   object \n",
      " 20  loser_ht            1089 non-null   float64\n",
      " 21  loser_ioc           4586 non-null   object \n",
      " 22  loser_age           4554 non-null   float64\n",
      " 23  score               4586 non-null   object \n",
      " 24  best_of             4586 non-null   int64  \n",
      " 25  round               4586 non-null   object \n",
      " 26  minutes             0 non-null      float64\n",
      " 27  w_ace               0 non-null      float64\n",
      " 28  w_df                0 non-null      float64\n",
      " 29  w_svpt              0 non-null      float64\n",
      " 30  w_1stIn             0 non-null      float64\n",
      " 31  w_1stWon            0 non-null      float64\n",
      " 32  w_2ndWon            0 non-null      float64\n",
      " 33  w_SvGms             0 non-null      float64\n",
      " 34  w_bpSaved           0 non-null      float64\n",
      " 35  w_bpFaced           0 non-null      float64\n",
      " 36  l_ace               0 non-null      float64\n",
      " 37  l_df                0 non-null      float64\n",
      " 38  l_svpt              0 non-null      float64\n",
      " 39  l_1stIn             0 non-null      float64\n",
      " 40  l_1stWon            0 non-null      float64\n",
      " 41  l_2ndWon            0 non-null      float64\n",
      " 42  l_SvGms             0 non-null      float64\n",
      " 43  l_bpSaved           0 non-null      float64\n",
      " 44  l_bpFaced           0 non-null      float64\n",
      " 45  winner_rank         4391 non-null   float64\n",
      " 46  winner_rank_points  4391 non-null   float64\n",
      " 47  loser_rank          4128 non-null   float64\n",
      " 48  loser_rank_points   4128 non-null   float64\n",
      "dtypes: float64(29), int64(7), object(13)\n",
      "memory usage: 1.7+ MB\n",
      "None\n"
     ]
    }
   ],
   "source": [
    "print(\"\\nATP Matches Futures 2020 Information:\")\n",
    "print(atp_matches_futures_2020.info())"
   ]
  },
  {
   "cell_type": "markdown",
   "metadata": {},
   "source": [
    "# Explore `atp_matches_qual_chall_<year>.csv`"
   ]
  },
  {
   "cell_type": "code",
   "execution_count": 33,
   "metadata": {},
   "outputs": [],
   "source": [
    "atp_matches_qual_chall_2020 = pd.read_csv('tennis_atp/atp_matches_qual_chall_2020.csv')"
   ]
  },
  {
   "cell_type": "code",
   "execution_count": 49,
   "metadata": {},
   "outputs": [
    {
     "name": "stdout",
     "output_type": "stream",
     "text": [
      "\n",
      "ATP Matches Qualifications and Challengers 2020 Information:\n",
      "<class 'pandas.core.frame.DataFrame'>\n",
      "RangeIndex: 3288 entries, 0 to 3287\n",
      "Data columns (total 49 columns):\n",
      " #   Column              Non-Null Count  Dtype  \n",
      "---  ------              --------------  -----  \n",
      " 0   tourney_id          3288 non-null   object \n",
      " 1   tourney_name        3288 non-null   object \n",
      " 2   surface             3288 non-null   object \n",
      " 3   draw_size           3288 non-null   int64  \n",
      " 4   tourney_level       3288 non-null   object \n",
      " 5   tourney_date        3288 non-null   int64  \n",
      " 6   match_num           3288 non-null   int64  \n",
      " 7   winner_id           3288 non-null   int64  \n",
      " 8   winner_seed         1421 non-null   float64\n",
      " 9   winner_entry        497 non-null    object \n",
      " 10  winner_name         3288 non-null   object \n",
      " 11  winner_hand         3288 non-null   object \n",
      " 12  winner_ht           3000 non-null   float64\n",
      " 13  winner_ioc          3288 non-null   object \n",
      " 14  winner_age          3288 non-null   float64\n",
      " 15  loser_id            3288 non-null   int64  \n",
      " 16  loser_seed          1023 non-null   float64\n",
      " 17  loser_entry         746 non-null    object \n",
      " 18  loser_name          3288 non-null   object \n",
      " 19  loser_hand          3288 non-null   object \n",
      " 20  loser_ht            2727 non-null   float64\n",
      " 21  loser_ioc           3288 non-null   object \n",
      " 22  loser_age           3284 non-null   float64\n",
      " 23  score               3286 non-null   object \n",
      " 24  best_of             3288 non-null   int64  \n",
      " 25  round               3288 non-null   object \n",
      " 26  minutes             3259 non-null   float64\n",
      " 27  w_ace               3257 non-null   float64\n",
      " 28  w_df                3257 non-null   float64\n",
      " 29  w_svpt              3257 non-null   float64\n",
      " 30  w_1stIn             3257 non-null   float64\n",
      " 31  w_1stWon            3257 non-null   float64\n",
      " 32  w_2ndWon            3257 non-null   float64\n",
      " 33  w_SvGms             3258 non-null   float64\n",
      " 34  w_bpSaved           3257 non-null   float64\n",
      " 35  w_bpFaced           3257 non-null   float64\n",
      " 36  l_ace               3257 non-null   float64\n",
      " 37  l_df                3257 non-null   float64\n",
      " 38  l_svpt              3257 non-null   float64\n",
      " 39  l_1stIn             3257 non-null   float64\n",
      " 40  l_1stWon            3257 non-null   float64\n",
      " 41  l_2ndWon            3257 non-null   float64\n",
      " 42  l_SvGms             3258 non-null   float64\n",
      " 43  l_bpSaved           3257 non-null   float64\n",
      " 44  l_bpFaced           3257 non-null   float64\n",
      " 45  winner_rank         3276 non-null   float64\n",
      " 46  winner_rank_points  3276 non-null   float64\n",
      " 47  loser_rank          3216 non-null   float64\n",
      " 48  loser_rank_points   3216 non-null   float64\n",
      "dtypes: float64(29), int64(6), object(14)\n",
      "memory usage: 1.2+ MB\n",
      "None\n"
     ]
    }
   ],
   "source": [
    "print(\"\\nATP Matches Qualifications and Challengers 2020 Information:\")\n",
    "print(atp_matches_qual_chall_2020.info())"
   ]
  },
  {
   "cell_type": "code",
   "execution_count": 51,
   "metadata": {},
   "outputs": [
    {
     "name": "stdout",
     "output_type": "stream",
     "text": [
      "['Q2' 'Q1' 'Q3' 'F' 'SF' 'QF' 'R16' 'R32' 'R64']\n"
     ]
    }
   ],
   "source": [
    "print(atp_matches_qual_chall_2020['round'].unique())\n"
   ]
  },
  {
   "cell_type": "markdown",
   "metadata": {},
   "source": [
    "# Explore `atp_players.csv`"
   ]
  },
  {
   "cell_type": "code",
   "execution_count": 39,
   "metadata": {},
   "outputs": [],
   "source": [
    "atp_players = pd.read_csv('tennis_atp/atp_players.csv')"
   ]
  },
  {
   "cell_type": "code",
   "execution_count": 40,
   "metadata": {},
   "outputs": [
    {
     "name": "stdout",
     "output_type": "stream",
     "text": [
      "<class 'pandas.core.frame.DataFrame'>\n",
      "RangeIndex: 64675 entries, 0 to 64674\n",
      "Data columns (total 8 columns):\n",
      " #   Column       Non-Null Count  Dtype  \n",
      "---  ------       --------------  -----  \n",
      " 0   player_id    64675 non-null  int64  \n",
      " 1   name_first   63797 non-null  object \n",
      " 2   name_last    64634 non-null  object \n",
      " 3   hand         64664 non-null  object \n",
      " 4   dob          46325 non-null  float64\n",
      " 5   ioc          64005 non-null  object \n",
      " 6   height       2791 non-null   float64\n",
      " 7   wikidata_id  4894 non-null   object \n",
      "dtypes: float64(2), int64(1), object(5)\n",
      "memory usage: 3.9+ MB\n",
      "None\n"
     ]
    }
   ],
   "source": [
    "print(atp_players.info())"
   ]
  },
  {
   "cell_type": "code",
   "execution_count": 41,
   "metadata": {},
   "outputs": [
    {
     "name": "stdout",
     "output_type": "stream",
     "text": [
      "   player_id name_first name_last hand         dob  ioc  height wikidata_id\n",
      "0     100001    Gardnar    Mulloy    R  19131122.0  USA   185.0      Q54544\n",
      "1     100002     Pancho    Segura    R  19210620.0  ECU   168.0      Q54581\n",
      "2     100003      Frank   Sedgman    R  19271002.0  AUS   180.0     Q962049\n",
      "3     100004   Giuseppe     Merlo    R  19271011.0  ITA     NaN    Q1258752\n",
      "4     100005    Richard  Gonzalez    R  19280509.0  USA   188.0      Q53554\n",
      "       player_id name_first  name_last hand  dob  ioc  height wikidata_id\n",
      "64670     212569      Tiago  Boschmans    U  NaN  POR     NaN         NaN\n",
      "64671     212570     Nikita      Filin    U  NaN  USA     NaN         NaN\n",
      "64672     212571        Jim   Hendrikx    U  NaN  NED     NaN         NaN\n",
      "64673     212572       Nate    Bonetto    U  NaN  USA     NaN         NaN\n",
      "64674     212573         Ty    Switzer    U  NaN  USA     NaN         NaN\n"
     ]
    }
   ],
   "source": [
    "print(atp_players.head())\n",
    "print(atp_players.tail())"
   ]
  },
  {
   "cell_type": "code",
   "execution_count": 42,
   "metadata": {},
   "outputs": [
    {
     "name": "stdout",
     "output_type": "stream",
     "text": [
      "Unique values of 'hand' column:\n",
      "['R' 'L' 'U' 'A' nan]\n",
      "\n",
      "Unique values of 'ioc' column:\n",
      "['USA' 'ECU' 'AUS' 'ITA' 'RSA' 'DEN' 'HUN' 'CHI' 'POL' 'PER' 'IND' 'SWE'\n",
      " 'ESP' 'SUI' 'GER' 'ROU' 'CRO' 'JPN' 'CZE' 'RUS' 'GBR' 'BRA' 'FRA' 'ZIM'\n",
      " 'SRB' 'NED' 'CAN' 'GRE' 'MEX' 'JAM' 'COL' 'ARG' 'BEL' 'NZL' 'VEN' 'EGY'\n",
      " 'BOL' 'AUT' 'PAK' 'YUG' 'NGR' 'PUR' 'PAR' 'IRL' 'IRI' 'FIN' 'URU' 'ISR'\n",
      " 'KOR' 'CRC' 'MAR' 'HAI' 'LAT' 'INA' 'SEN' 'LUX' 'BAH' 'SVK' 'UKR' 'PHI'\n",
      " 'TUR' 'HKG' 'CUB' 'BUL' 'NOR' 'MAS' 'KEN' 'POR' 'GEO' 'THA' 'AND' 'CHN'\n",
      " 'CIV' 'MKD' 'TPE' 'AHO' 'ESA' 'GUA' 'MON' 'GHA' 'SLO' 'EST' 'TRI' 'ALG'\n",
      " 'DOM' 'BLR' 'UZB' 'CAF' 'ARM' 'QAT' 'BIH' 'LIB' 'LTU' 'MDA' 'KUW' 'BEN'\n",
      " 'MRI' 'TUN' 'AZE' 'KAZ' 'ISL' 'UAE' 'MNE' 'SLE' 'VIE' 'CYP' 'TOG' 'SRI'\n",
      " 'BAR' 'SOL' 'ARU' 'TJK' 'NAM' 'MAD' 'SYR' 'MLT' 'CAM' 'UGA' 'KGZ' 'LBA'\n",
      " 'BUR' 'RHO' 'ZAM' 'BER' 'MLI' 'SGP' 'OMA' 'VAN' 'KSA' 'BRN' 'GUM' 'URS'\n",
      " 'PNG' 'FIJ' 'SAM' 'COK' 'MHL' 'BRU' 'SMR' nan 'NIG' 'ECA' 'BAN' 'IRQ'\n",
      " 'CAR' 'CGO' 'CMR' 'JOR' 'PAN' 'BDI' 'ISV' 'TCH' 'FRG' 'ANZ' 'BRI' 'HAW'\n",
      " 'TAN' 'HON' 'SCG' 'BOT' 'CAY' 'COD' 'VIN' 'RWA' 'TKM' 'SUD' 'LCA' 'NCA'\n",
      " 'GAB' 'NMI' 'LAO' 'ANG' 'LES' 'MYA' 'SUR' 'GUD' 'MOZ' 'SEY' 'CAL' 'REU'\n",
      " 'GRN' 'LIE' 'SWZ' 'LBN' 'ALB' 'BIZ' 'LBR' 'ANT' 'ASA' 'ETH' 'MGL' 'CPV'\n",
      " 'PLW' 'NEP' 'TKS' 'GDR' 'LEB' 'CEY' 'BIR' 'GUY' 'SIN' '?' 'ZWE' 'YEM'\n",
      " 'POC' 'TTO' 'MTN' 'ITF' 'ERI' 'AFG' 'CUW' 'TGO' 'CHL' 'MDG' 'GTM' 'GLP'\n",
      " 'VUT' 'MCO' 'PRY' 'MRT' 'KWT' 'NPL' 'VIR' 'TWN' 'URY' 'GRC' 'DEU']\n"
     ]
    }
   ],
   "source": [
    "hand_unique_values = atp_players['hand'].unique()\n",
    "ioc_unique_values = atp_players['ioc'].unique()\n",
    "\n",
    "print(\"Unique values of 'hand' column:\")\n",
    "print(hand_unique_values)\n",
    "\n",
    "print(\"\\nUnique values of 'ioc' column:\")\n",
    "print(ioc_unique_values)\n"
   ]
  },
  {
   "cell_type": "markdown",
   "metadata": {},
   "source": [
    "# Explore `atp_rankings_<year>.csv`"
   ]
  },
  {
   "cell_type": "code",
   "execution_count": 44,
   "metadata": {},
   "outputs": [],
   "source": [
    "atp_rankings_20s = pd.read_csv('tennis_atp/atp_rankings_20s.csv')"
   ]
  },
  {
   "cell_type": "code",
   "execution_count": 45,
   "metadata": {},
   "outputs": [
    {
     "name": "stdout",
     "output_type": "stream",
     "text": [
      "<class 'pandas.core.frame.DataFrame'>\n",
      "RangeIndex: 245595 entries, 0 to 245594\n",
      "Data columns (total 4 columns):\n",
      " #   Column        Non-Null Count   Dtype\n",
      "---  ------        --------------   -----\n",
      " 0   ranking_date  245595 non-null  int64\n",
      " 1   rank          245595 non-null  int64\n",
      " 2   player        245595 non-null  int64\n",
      " 3   points        245595 non-null  int64\n",
      "dtypes: int64(4)\n",
      "memory usage: 7.5 MB\n",
      "None\n"
     ]
    }
   ],
   "source": [
    "print(atp_rankings_20s.info())"
   ]
  },
  {
   "cell_type": "code",
   "execution_count": 46,
   "metadata": {},
   "outputs": [
    {
     "name": "stdout",
     "output_type": "stream",
     "text": [
      "   ranking_date  rank  player  points\n",
      "0      20200106     1  104745    9985\n",
      "1      20200106     2  104925    9055\n",
      "2      20200106     3  103819    6590\n",
      "3      20200106     4  106233    5825\n",
      "4      20200106     5  106421    5705\n",
      "        ranking_date  rank  player  points\n",
      "245590      20221226   896  208532      15\n",
      "245591      20221226   897  210320      15\n",
      "245592      20221226   898  210398      15\n",
      "245593      20221226   899  208866      15\n",
      "245594      20221226   900  131910      15\n"
     ]
    }
   ],
   "source": [
    "print(atp_rankings_20s.head())\n",
    "print(atp_rankings_20s.tail())"
   ]
  },
  {
   "cell_type": "code",
   "execution_count": null,
   "metadata": {},
   "outputs": [],
   "source": []
  }
 ],
 "metadata": {
  "kernelspec": {
   "display_name": "big-data-env",
   "language": "python",
   "name": "python3"
  },
  "language_info": {
   "codemirror_mode": {
    "name": "ipython",
    "version": 3
   },
   "file_extension": ".py",
   "mimetype": "text/x-python",
   "name": "python",
   "nbconvert_exporter": "python",
   "pygments_lexer": "ipython3",
   "version": "3.9.18"
  }
 },
 "nbformat": 4,
 "nbformat_minor": 2
}
